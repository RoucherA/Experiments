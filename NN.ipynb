{
 "cells": [
  {
   "cell_type": "code",
   "execution_count": 133,
   "metadata": {},
   "outputs": [],
   "source": [
    "import numpy as np\n",
    "from sklearn.datasets import fetch_openml\n",
    "from sklearn.model_selection import train_test_split\n",
    "import seaborn as sns\n",
    "import time"
   ]
  },
  {
   "cell_type": "markdown",
   "metadata": {},
   "source": [
    "### Import MNIST"
   ]
  },
  {
   "cell_type": "code",
   "execution_count": 139,
   "metadata": {},
   "outputs": [],
   "source": [
    "X, y = fetch_openml('mnist_784', version=1, return_X_y=True)\n",
    "y = y.astype(int)\n",
    "x_train, x_val, y_train, y_val = train_test_split(x, y, test_size=0.15, random_state=42)"
   ]
  },
  {
   "cell_type": "code",
   "execution_count": 140,
   "metadata": {},
   "outputs": [
    {
     "data": {
      "text/plain": [
       "<matplotlib.image.AxesImage at 0x222450a9f40>"
      ]
     },
     "execution_count": 140,
     "metadata": {},
     "output_type": "execute_result"
    },
    {
     "data": {
      "image/png": "[encoded data removed]",
      "text/plain": [
       "<Figure size 432x288 with 1 Axes>"
      ]
     },
     "metadata": {
      "needs_background": "light"
     },
     "output_type": "display_data"
    }
   ],
   "source": [
    "%matplotlib inline\n",
    "import matplotlib.pyplot as plt\n",
    "first_digit = X[0]\n",
    "image = first_digit.reshape(28,28).astype(np.uint8)\n",
    "\n",
    "plt.imshow(image, cmap='gray')"
   ]
  },
  {
   "cell_type": "markdown",
   "metadata": {},
   "source": [
    "# Basic NN\n",
    "\n",
    "Here we want to train a basic NN for the MNIST dataset."
   ]
  },
  {
   "cell_type": "code",
   "execution_count": 157,
   "metadata": {},
   "outputs": [],
   "source": [
    "class Layer:\n",
    "    def __init__(self, prev_size, layer_size, activation_function, lr):\n",
    "        assert activation_function in ['ReLu', 'Sigmoid', 'Softmax'], 'Unknown activation function'\n",
    "        if activation_function=='ReLu':\n",
    "            self.activation_function = self.activate_relu\n",
    "        elif activation_function=='Sigmoid':\n",
    "            self.activation_function = self.activate_sigmoid\n",
    "        elif activation_function=='Softmax':\n",
    "            self.activation_function = self.activate_softmax\n",
    "            \n",
    "        self.W = np.random.randn(prev_size, layer_size)\n",
    "        self.Z = np.zeros((1, layer_size))\n",
    "        self.A = np.zeros((1, layer_size))\n",
    "        self.lr = lr\n",
    "        \n",
    "    def forward(self, X):\n",
    "        return self.activation_function(np.dot(X, self.W))\n",
    "        \n",
    "    def backwards(self, X, dA):\n",
    "        Z = np.dot(X,self.W)\n",
    "        dZ = dA * self.activation_function(Z, derivate=True)\n",
    "        dW = np.outer(X.T, dZ)\n",
    "        self.W -= self.lr * dW\n",
    "        return np.dot(self.W, dA/self.activation_function(Z, derivate=True).T)\n",
    "        \n",
    "    def activate_relu(self, y, derivate=False):\n",
    "        if not derivate:\n",
    "            return max(0, y)\n",
    "        else:\n",
    "            if y >= 0:\n",
    "                return 1 \n",
    "            else:\n",
    "                return 0\n",
    "            \n",
    "    def activate_sigmoid(self, z, derivate=False):\n",
    "        a = 1/(1+np.exp(-z))\n",
    "        if not derivate:\n",
    "            return a\n",
    "        else:\n",
    "            return a * (1-a)\n",
    "        \n",
    "    def activate_softmax(self, x, derivate=False):\n",
    "        # Numerically stable with large exponentials\n",
    "        exps = np.exp(x - x.max())\n",
    "        if derivate:\n",
    "            return exps / np.sum(exps, axis=0) * (1 - exps / np.sum(exps, axis=0))\n",
    "        return exps / np.sum(exps, axis=0)\n",
    "            \n",
    "class NN:\n",
    "    def __init__(self, layer_sizes, activation_function, lr):\n",
    "        self.n_layers = len(layer_sizes)\n",
    "        self.layers=[]\n",
    "        self.layer_outputs=[]\n",
    "        \n",
    "        #Initialize output of the input layer\n",
    "        self.layer_outputs.append(np.zeros((1,layer_sizes[0])))\n",
    "        \n",
    "        #Initialize layers and their outputs\n",
    "        for i in range(1, self.n_layers):\n",
    "            new_layer = Layer(layer_sizes[i-1], layer_sizes[i], activation_function, lr)\n",
    "            self.layers.append(new_layer)\n",
    "            self.layer_outputs.append(np.zeros(layer_sizes[i]))\n",
    "        \n",
    "        final_layer = Layer(layer_sizes[-1], 10, 'Softmax', lr)\n",
    "        self.layers.append(final_layer)\n",
    "        self.layer_outputs.append(np.zeros(10))\n",
    "\n",
    "    \n",
    "    def forward_pass(self, X): \n",
    "        layer_outputs = [X]\n",
    "        for i in range(self.n_layers):\n",
    "            layer_outputs.append(self.layers[i].forward(layer_outputs[i])) \n",
    "        return layer_outputs\n",
    "            \n",
    "    def loss(self, Y, Y2):\n",
    "        return np.sum(np.square(Y - Y2))\n",
    "    \n",
    "    def backward_pass(self, error):\n",
    "        for i in reversed(range(self.n_layers)):\n",
    "            error = self.layers[i].backwards(self.layer_outputs[i], error)\n",
    "        return 0\n",
    "        \n",
    "    def full_pass(self, X, y):\n",
    "        layer_outputs = self.forward_pass(X)\n",
    "        error = y - layer_outputs[-1]\n",
    "        self.backward_pass(error)\n",
    "        return np.argmax(layer_outputs[-1]), self.loss(y, layer_outputs[-1])"
   ]
  },
  {
   "cell_type": "code",
   "execution_count": 158,
   "metadata": {},
   "outputs": [
    {
     "name": "stdout",
     "output_type": "stream",
     "text": [
      "[0. 1. 0. 0. 0. 0. 0. 0. 0. 0.]\n"
     ]
    }
   ],
   "source": [
    "def moving_average(x, w):\n",
    "    return np.convolve(x, np.ones(w), 'valid') / w\n",
    "\n",
    "def one_hot(y):\n",
    "    result = np.zeros((10))\n",
    "    result[int(y)-1]=1\n",
    "    return result\n",
    "\n",
    "print(one_hot(2))"
   ]
  },
  {
   "cell_type": "code",
   "execution_count": 159,
   "metadata": {},
   "outputs": [
    {
     "data": {
      "text/plain": [
       "<seaborn.axisgrid.JointGrid at 0x222472be790>"
      ]
     },
     "execution_count": 159,
     "metadata": {},
     "output_type": "execute_result"
    },
    {
     "data": {
      "image/png": "[encoded data removed]",
      "text/plain": [
       "<Figure size 432x432 with 3 Axes>"
      ]
     },
     "metadata": {
      "needs_background": "light"
     },
     "output_type": "display_data"
    }
   ],
   "source": [
    "layer_sizes = [784, 100, 30]\n",
    "dnn = NN(layer_sizes, 'Sigmoid', 0.1)\n",
    "\n",
    "\n",
    "minibatch = zip(x_train[:1000],y_train[:1000])\n",
    "losses, predictions = [], []\n",
    "for couple in minibatch:\n",
    "    y = couple[1]\n",
    "    onehot_y = one_hot(y)\n",
    "    prediction, loss = dnn.full_pass(couple[0], onehot_y)\n",
    "    losses.append(loss)\n",
    "    predictions.append(prediction)\n",
    "\n",
    "sns.jointplot(x=predictions, y=y_train[:1000], kind='hex')"
   ]
  },
  {
   "cell_type": "markdown",
   "metadata": {},
   "source": [
    "Here is the paper we will follow for implementation of dropout: https://www.cs.toronto.edu/~hinton/absps/JMLRdropout.pdf"
   ]
  },
  {
   "cell_type": "code",
   "execution_count": null,
   "metadata": {},
   "outputs": [],
   "source": []
  },
  {
   "cell_type": "code",
   "execution_count": null,
   "metadata": {},
   "outputs": [],
   "source": []
  }
 ],
 "metadata": {
  "kernelspec": {
   "display_name": "Python 3",
   "language": "python",
   "name": "python3"
  },
  "language_info": {
   "codemirror_mode": {
    "name": "ipython",
    "version": 3
   },
   "file_extension": ".py",
   "mimetype": "text/x-python",
   "name": "python",
   "nbconvert_exporter": "python",
   "pygments_lexer": "ipython3",
   "version": "3.8.3"
  }
 },
 "nbformat": 4,
 "nbformat_minor": 4
}
