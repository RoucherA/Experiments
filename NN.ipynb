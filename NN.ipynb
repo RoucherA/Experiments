{
 "cells": [
  {
   "cell_type": "code",
   "execution_count": 1,
   "metadata": {},
   "outputs": [],
   "source": [
    "import numpy as np"
   ]
  },
  {
   "cell_type": "markdown",
   "metadata": {},
   "source": [
    "# Basic NN\n",
    "\n",
    "Here we want to train a basic NN for the MNIST dataset."
   ]
  },
  {
   "cell_type": "code",
   "execution_count": null,
   "metadata": {},
   "outputs": [],
   "source": [
    "class Layer:\n",
    "    def __init__(self, prev_size, layer_size, activation_function):\n",
    "        assert(activation_function in ['ReLu', 'Sigmoid'])\n",
    "        if activation_function=='ReLu':\n",
    "            self.activation_function = vectorize(self.activate_relu)\n",
    "        elif activation_function=='Sigmoid':\n",
    "            self.activation_function = vectorize(self.activate_sigmoid)\n",
    "            \n",
    "        self.activation_function = activation_function\n",
    "        self.W = np.random.normal(size=(prev_size, layer_size))\n",
    "        self.Y = np.zeros((1, layer_size))\n",
    "        self.Z = np.zeros((1, layer_size))\n",
    "        \n",
    "    def forward(X):\n",
    "        return self.activation_function(np.dot(self.W, X))\n",
    "        \n",
    "    def backwards(Z, dZ):\n",
    "        return dZ/self.activation_function(Z, derivate=True)\n",
    "        \n",
    "    def activate_relu(y, derivate=False):\n",
    "        if not derivate:\n",
    "            return max(0, y)\n",
    "        else:\n",
    "            if y >= 0:\n",
    "                return 1 \n",
    "            else:\n",
    "                return 0\n",
    "            \n",
    "    def activate_sigmoid(y, derivate=False):\n",
    "        s = 1/(1+exp(-y))\n",
    "        if not derivate:\n",
    "            return s\n",
    "        else:\n",
    "            return s * (1-s)\n",
    "            \n",
    "    \n",
    "    \n",
    "class NN:\n",
    "    def __init__(self, layer_sizes, activation_function):\n",
    "        self.n_layers = len(layer_sizes)\n",
    "        self.activation_function = activation_function\n",
    "        self.layers=[]\n",
    "        \n",
    "        #Initialize layers\n",
    "        for i in range(self.n_layers-1):\n",
    "            self.layers.append(Layer(layer_sizes[i], layer_sizes[i+1], activation_function))\n",
    "            \n",
    "\n",
    "    def forwards(self, X):        \n",
    "        for i in range()\n",
    "        \n",
    "    def backwards(self)\n",
    "    \n",
    "    def relu(x, derivative=False):\n",
    "        \n",
    "    def sigmoid(x, derivative=False):\n",
    "        \n",
    "      \n",
    "layer_sizes = [[784, 100, 1]]\n",
    "NN = NN(layer_sizes, 'Sigmoid')"
   ]
  },
  {
   "cell_type": "markdown",
   "metadata": {},
   "source": [
    "Here is the papre we will follow for implementation of dropout: https://www.cs.toronto.edu/~hinton/absps/JMLRdropout.pdf"
   ]
  },
  {
   "cell_type": "code",
   "execution_count": null,
   "metadata": {},
   "outputs": [],
   "source": []
  }
 ],
 "metadata": {
  "kernelspec": {
   "display_name": "Python 3",
   "language": "python",
   "name": "python3"
  },
  "language_info": {
   "codemirror_mode": {
    "name": "ipython",
    "version": 3
   },
   "file_extension": ".py",
   "mimetype": "text/x-python",
   "name": "python",
   "nbconvert_exporter": "python",
   "pygments_lexer": "ipython3",
   "version": "3.8.3"
  }
 },
 "nbformat": 4,
 "nbformat_minor": 4
}
